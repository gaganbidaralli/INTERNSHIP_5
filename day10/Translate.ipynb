{
  "nbformat": 4,
  "nbformat_minor": 0,
  "metadata": {
    "colab": {
      "provenance": []
    },
    "kernelspec": {
      "name": "python3",
      "display_name": "Python 3"
    },
    "language_info": {
      "name": "python"
    }
  },
  "cells": [
    {
      "cell_type": "code",
      "execution_count": 5,
      "metadata": {
        "colab": {
          "base_uri": "https://localhost:8080/"
        },
        "id": "8kpXIOKwdu0j",
        "outputId": "926ac695-a9a5-4a99-e29e-db5b7ddc54f5"
      },
      "outputs": [
        {
          "output_type": "stream",
          "name": "stderr",
          "text": [
            "Device set to use cpu\n",
            "Device set to use cpu\n",
            "Device set to use cpu\n"
          ]
        },
        {
          "output_type": "stream",
          "name": "stdout",
          "text": [
            "Original Text: Myself Gagan,I am passionate about technology.\n",
            "\n",
            "Kannada  : ನಾನು ಗ್ಯಾಗನ್, ನಾನು ತಂತ್ರಜ್ಞಾನದ ಬಗ್ಗೆ ಉತ್ಸುಕನಾಗಿದ್ದೇನೆ.\n",
            "Hindi    : मैं खुद गगन, मैं प्रौद्योगिकी के बारे में भावुक हूँ.\n",
            "Japanese : ゲーガン自身 私はテクノロジーに情熱を注いでいます\n"
          ]
        }
      ],
      "source": [
        "from transformers import AutoTokenizer, AutoModelForSeq2SeqLM, pipeline\n",
        "\n",
        "model = AutoModelForSeq2SeqLM.from_pretrained('facebook/nllb-200-distilled-600M')\n",
        "tokenizer = AutoTokenizer.from_pretrained('facebook/nllb-200-distilled-600M')\n",
        "\n",
        "def translate(input_text, src_lang='eng_Latn', target_lang='kan_Knda'):\n",
        "    translator = pipeline(\n",
        "        'translation',\n",
        "        model=model,\n",
        "        tokenizer=tokenizer,\n",
        "        src_lang=src_lang,\n",
        "        tgt_lang=target_lang,\n",
        "        max_length=400\n",
        "    )\n",
        "    return translator(input_text)[0]['translation_text']\n",
        "\n",
        "input_text = \"Myself Gagan,I am passionate about technology.\"\n",
        "\n",
        "kannada_translation = translate(input_text, target_lang='kan_Knda')\n",
        "hindi_translation = translate(input_text, target_lang='hin_Deva')\n",
        "japanese_translation = translate(input_text, target_lang='jpn_Jpan')\n",
        "\n",
        "print(f\"Original Text: {input_text}\\n\")\n",
        "print(f\"Kannada  : {kannada_translation}\")\n",
        "print(f\"Hindi    : {hindi_translation}\")\n",
        "print(f\"Japanese : {japanese_translation}\")\n"
      ]
    }
  ]
}